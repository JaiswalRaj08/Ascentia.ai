{
 "cells": [
  {
   "cell_type": "markdown",
   "id": "3c1d83ff",
   "metadata": {},
   "source": [
    "# Ascentia.ai Dog Cat Image Classifier Intern Project :"
   ]
  },
  {
   "cell_type": "code",
   "execution_count": 94,
   "id": "ac747fbf",
   "metadata": {},
   "outputs": [
    {
     "name": "stdout",
     "output_type": "stream",
     "text": [
      "Python: 3.8.8 (default, Apr 13 2021, 15:08:03) [MSC v.1916 64 bit (AMD64)]\n",
      "scipy: 1.6.2\n",
      "numpy: 1.19.5\n",
      "matplotlib: 3.3.4\n",
      "sklearn: 0.24.1\n"
     ]
    }
   ],
   "source": [
    "# Python version\n",
    "import sys\n",
    "print('Python: {}'.format(sys.version))\n",
    "# scipy\n",
    "import scipy\n",
    "print('scipy: {}'.format(scipy.__version__))\n",
    "# numpy\n",
    "import numpy\n",
    "print('numpy: {}'.format(numpy.__version__))\n",
    "# matplotlib\n",
    "import matplotlib\n",
    "print('matplotlib: {}'.format(matplotlib.__version__))\n",
    "# scikit-learn\n",
    "import sklearn\n",
    "print('sklearn: {}'.format(sklearn.__version__))"
   ]
  },
  {
   "cell_type": "markdown",
   "id": "f921e440",
   "metadata": {},
   "source": [
    "# Plan of Attack : \n",
    "\n",
    "1. **Import Required Libraries.**\n",
    "\n",
    "\n",
    "2. **Import datasets.**\n",
    "\n",
    "\n",
    "3. **Split the features and labels.**\n",
    "\n",
    "\n",
    "4. **Train with Different Algorithms.**\n",
    "\n",
    "\n",
    "5. **Calculate the Evaluation Metrics of Different Classifier Algortihms.**\n",
    "\n",
    "\n",
    "6. **Predict the Output.**"
   ]
  },
  {
   "cell_type": "code",
   "execution_count": 95,
   "id": "febbb6a6",
   "metadata": {},
   "outputs": [],
   "source": [
    "import os\n",
    "import cv2\n",
    "import numpy as np"
   ]
  },
  {
   "cell_type": "markdown",
   "id": "a705f6c9",
   "metadata": {},
   "source": [
    "# Import datasets :"
   ]
  },
  {
   "cell_type": "code",
   "execution_count": 96,
   "id": "f99d79df",
   "metadata": {},
   "outputs": [],
   "source": [
    "# Path of the folder in my local system\n",
    "dir_path = \"C:\\\\Users\\\\HOME\\\\Desktop\\\\Ascentia.ai\\\\kagglecatsanddogs_3367a\\\\PetImages\""
   ]
  },
  {
   "cell_type": "markdown",
   "id": "06d24415",
   "metadata": {},
   "source": [
    "# Lets talk about the data we are going to use to train our  Algorithm :"
   ]
  },
  {
   "cell_type": "markdown",
   "id": "fac1cb51",
   "metadata": {},
   "source": [
    "- The dogs vs cats dataset refers to a dataset used for a **Kaggle machine learning competition held in 2013.**\n",
    "\n",
    "\n",
    "\n",
    "- The dataset is comprised of photos of dogs and cats provided as a subset of photos from a much larger **dataset of 3 million manually annotated photos.**\n",
    "\n",
    "\n",
    "- But in our case we have around ( total ) **25000 images ( aprroximately ).**"
   ]
  },
  {
   "cell_type": "markdown",
   "id": "9907b5e0",
   "metadata": {},
   "source": [
    "# What does the  code means in the below cell ?"
   ]
  },
  {
   "cell_type": "code",
   "execution_count": 97,
   "id": "d52aa1d0",
   "metadata": {},
   "outputs": [],
   "source": [
    "\n",
    "# Since we know we have two categories of images in our dataset i.e Cat and Dog so we are distinguishing it for label Purpose\n",
    "# Label usually refers to the Output Column . \n",
    "# So that when we predict the Output it will name as either Cat or Dog wrt Image.\n",
    "categories = [\"Cat\" ,\"Dog\"]\n",
    "\n",
    "\n",
    "# Here data is a list or collection of the images we are appending with Labels.\n",
    "# This data list will further use to extract the features (images) and labels for training Purpose.\n",
    "data = []\n",
    "\n",
    "\n",
    "# This for loop (1) is basically exploring the path of images folder in order to segregate the images via labels ( categories)\n",
    "for category in categories:\n",
    "    path = os.path.join(dir_path , category)\n",
    "    label = categories.index(category)\n",
    "\n",
    "\n",
    "# This for loop (2) is basically exploring the path of images in order to read it.\n",
    "    for img in os.listdir(path):\n",
    "        img_path = os.path.join(path , img)\n",
    "        pet_image = cv2.imread(img_path,0)\n",
    "\n",
    "    \n",
    "# What is this ?\n",
    "# This try will generally resize the different sizes  of images present in folder since before training all should be of same size\n",
    "# But why try ?\n",
    "# Since some images were notable to resize itself and it will coause error , so try will help out to avoid those probelms\n",
    "        try : \n",
    "            pet_image = cv2.resize(pet_image,(50,50))\n",
    "\n",
    "# Why np.array ?\n",
    "# Since we all know an image is not but set of pixels with Width , height , channels . so in order to perfrom task more quickly since \n",
    "# NumPy arrays are faster and more compact than Python lists.\n",
    "\n",
    "# Why flatten ? \n",
    "# Flattening an image significantly reduces the file size, making it easier to export to the web and print the image\n",
    "            image = np.array(pet_image).flatten()\n",
    "\n",
    "# All reized ,flatted , labelled image will be append in data above.\n",
    "            data.append([image,label])\n",
    "            \n",
    "# Except will help us to tackle those un-resizable images            \n",
    "        except Exception as e :\n",
    "            pass"
   ]
  },
  {
   "cell_type": "code",
   "execution_count": 137,
   "id": "7bce7f91",
   "metadata": {},
   "outputs": [
    {
     "name": "stdout",
     "output_type": "stream",
     "text": [
      "Total images in a folder  : 24946\n"
     ]
    }
   ],
   "source": [
    "print(\"Total images in a folder  :\",len(data))"
   ]
  },
  {
   "cell_type": "markdown",
   "id": "2a3d501c",
   "metadata": {},
   "source": [
    "# What and Why Pickle ? "
   ]
  },
  {
   "cell_type": "markdown",
   "id": "2b11f8d2",
   "metadata": {},
   "source": [
    "The pickle module **keeps track of the objects** it has already serialized, so that later references to the same object won't be serialized again, thus allowing for **faster execution time**. Allows saving model in very little time."
   ]
  },
  {
   "cell_type": "code",
   "execution_count": 99,
   "id": "df94c3ad",
   "metadata": {},
   "outputs": [],
   "source": [
    "import pickle"
   ]
  },
  {
   "cell_type": "code",
   "execution_count": 100,
   "id": "8327c33a",
   "metadata": {},
   "outputs": [],
   "source": [
    "# Save our data in a new pickle file for futher (next step) use .\n",
    "\n",
    "pick_in = open(\"New_data.pickle\",\"wb\")\n",
    "pickle.dump(data , pick_in)\n",
    "pick_in.close()"
   ]
  },
  {
   "cell_type": "code",
   "execution_count": 101,
   "id": "eb3b0889",
   "metadata": {},
   "outputs": [],
   "source": [
    "# Load our data in a  Jupyter notebook for futher use (Split and Training).\n",
    "\n",
    "pick_in = open(\"New_data.pickle\",\"rb\")\n",
    "data = pickle.load(pick_in)\n",
    "pick_in.close()"
   ]
  },
  {
   "cell_type": "markdown",
   "id": "54bb98af",
   "metadata": {},
   "source": [
    "# Split the features and labels:"
   ]
  },
  {
   "cell_type": "code",
   "execution_count": 102,
   "id": "27c3ad68",
   "metadata": {},
   "outputs": [],
   "source": [
    "import random"
   ]
  },
  {
   "cell_type": "code",
   "execution_count": 103,
   "id": "8cb2bde3",
   "metadata": {},
   "outputs": [],
   "source": [
    "# Why do we need to shuffle the dataset?\n",
    "\n",
    "# It helps the training converge fast.\n",
    "# It prevents any bias during the training. \n",
    "# It prevents the model from learning the order of the training.\n",
    "\n",
    "random.shuffle(data)\n",
    "\n",
    "features = []\n",
    "labels = []\n",
    "\n",
    "for feature , label in data:\n",
    "    features.append(feature)\n",
    "    labels.append(label)"
   ]
  },
  {
   "cell_type": "code",
   "execution_count": 104,
   "id": "27e1c4eb",
   "metadata": {},
   "outputs": [],
   "source": [
    "from sklearn.model_selection import train_test_split"
   ]
  },
  {
   "cell_type": "markdown",
   "id": "94abd5c8",
   "metadata": {},
   "source": [
    "###  What is the benefit to splitting a dataset into some ratio of training &testing subsets for a  algorithm?"
   ]
  },
  {
   "cell_type": "markdown",
   "id": "fcd5ae4d",
   "metadata": {},
   "source": [
    "- One benefit of splitting a dataset into some ratio of training and testing subsets is that **it prevents 'overfitting',** a problem where the **model has become too finely tuned to the data its been given so that it is unable to create accurate predictions on data it hasn't been trained on**\n",
    "\n",
    "\n",
    "- The parameter ( random_state=42) to produce the same results across a different run.\n",
    "\n",
    "\n"
   ]
  },
  {
   "cell_type": "code",
   "execution_count": 105,
   "id": "4b214717",
   "metadata": {},
   "outputs": [],
   "source": [
    "X_train , X_test , y_train , y_test = train_test_split(features,labels,test_size=0.25,random_state=42)"
   ]
  },
  {
   "cell_type": "markdown",
   "id": "521eeaa5",
   "metadata": {},
   "source": [
    "# Train with Different Algorithms : "
   ]
  },
  {
   "cell_type": "markdown",
   "id": "dc524d1d",
   "metadata": {},
   "source": [
    "# 1. Support Vector Classifier :  "
   ]
  },
  {
   "cell_type": "markdown",
   "id": "95e84ebc",
   "metadata": {},
   "source": [
    "<img src=\"svc.png\">"
   ]
  },
  {
   "cell_type": "markdown",
   "id": "f5468916",
   "metadata": {},
   "source": [
    "# What is the Support Vector Machine?\n",
    "\n",
    "\n",
    "- **“Support Vector Machine” (SVM)** is a supervised machine learning algorithm that can be used for both classification or regression challenges. However,  it is mostly used in classification problems.\n",
    "\n",
    "\n",
    "- **Support Vectors :**\n",
    "\n",
    "Support vectors are the data points, which are closest to the hyperplane. These points will define the separating line better by calculating margins. These points are more relevant to the construction of the classifier.\n",
    "\n",
    "- **Hyperplane :**\n",
    "\n",
    "A hyperplane is a decision plane which separates between a set of objects having different class memberships.\n",
    "\n",
    "- **Margin :**\n",
    "\n",
    "A margin is a gap between the two lines on the closest class points. This is calculated as the perpendicular distance from the line to support vectors or closest points. If the margin is larger in between the classes, then it is considered a good margin, a smaller margin is a bad margin."
   ]
  },
  {
   "cell_type": "code",
   "execution_count": 106,
   "id": "4c2e13a9",
   "metadata": {},
   "outputs": [],
   "source": [
    "from sklearn.svm import SVC"
   ]
  },
  {
   "cell_type": "code",
   "execution_count": 107,
   "id": "e99e4208",
   "metadata": {},
   "outputs": [],
   "source": [
    "model_svm = SVC()\n",
    "model_svm = model_svm.fit(X_train,y_train)"
   ]
  },
  {
   "cell_type": "code",
   "execution_count": 108,
   "id": "65b8532d",
   "metadata": {},
   "outputs": [],
   "source": [
    "pick_svm = open(\"Model.svm\",\"wb\")\n",
    "pickle.dump(model_svm , pick_svm)\n",
    "pick_svm.close()"
   ]
  },
  {
   "cell_type": "code",
   "execution_count": 109,
   "id": "e3eecd75",
   "metadata": {},
   "outputs": [],
   "source": [
    "y_pred = model_svm.predict(X_test)"
   ]
  },
  {
   "cell_type": "markdown",
   "id": "c2ea9503",
   "metadata": {},
   "source": [
    "# Evaluation Metrics : \n",
    "\n",
    "Note : \n",
    "-  Accuracy and other metrics may be low just because i have trained this model ealrier for 10% of images dataset due to computational issues.\n",
    "\n",
    "- Due to this Prediction is pretty bad but it will work fine once it train over 75-80% of images"
   ]
  },
  {
   "cell_type": "markdown",
   "id": "9dc0a166",
   "metadata": {},
   "source": [
    "- Classification is about predicting the class labels given input data.\n",
    "\n",
    "\n",
    "\n",
    "1. **Confusion Matrix :**\n",
    "\n",
    "- Confusion Matrix is a performance measurement for the machine learning classification problems where the output can be two or more classes. It is a table with combinations of predicted and actual values.\n",
    "\n",
    "<img src=\"cm.jpg\">\n",
    "\n",
    "\n",
    "2. **Accuracy :** \n",
    "\n",
    "- Accuracy simply measures how often the classifier correctly predicts. We can define accuracy as the ratio of the number of correct predictions and the total number of predictions.\n",
    "\n",
    "\n",
    "\n",
    "3. **Recall (Sensitivity) :**\n",
    "\n",
    "- Recall explains how many of the actual positive cases we were able to predict correctly with our model. It is a useful metric in cases where False Negative is of higher concern than False Positive.\n",
    "\n",
    "\n",
    "4. **Precision :**\n",
    "\n",
    "- Precision refers to the number of true positives divided by the total number of positive predictions.\n",
    "\n",
    "\n",
    "<img src =\"m.png\">"
   ]
  },
  {
   "cell_type": "code",
   "execution_count": 110,
   "id": "4a795d58",
   "metadata": {},
   "outputs": [],
   "source": [
    "from  sklearn.metrics import accuracy_score"
   ]
  },
  {
   "cell_type": "code",
   "execution_count": 111,
   "id": "3a7bf922",
   "metadata": {},
   "outputs": [
    {
     "name": "stdout",
     "output_type": "stream",
     "text": [
      "Accuracy :  0.6608946608946609\n"
     ]
    }
   ],
   "source": [
    "print(\"Accuracy : \", accuracy_score(y_test,y_pred))"
   ]
  },
  {
   "cell_type": "code",
   "execution_count": 112,
   "id": "4ae1af6a",
   "metadata": {},
   "outputs": [],
   "source": [
    "from  sklearn.metrics import precision_score"
   ]
  },
  {
   "cell_type": "code",
   "execution_count": 113,
   "id": "100d36cf",
   "metadata": {},
   "outputs": [
    {
     "name": "stdout",
     "output_type": "stream",
     "text": [
      "Precision Score  :  0.6559206447613143\n"
     ]
    }
   ],
   "source": [
    "print(\"Precision Score  : \", precision_score(y_test,y_pred))"
   ]
  },
  {
   "cell_type": "code",
   "execution_count": 114,
   "id": "1d7048c7",
   "metadata": {},
   "outputs": [],
   "source": [
    "from  sklearn.metrics import recall_score"
   ]
  },
  {
   "cell_type": "code",
   "execution_count": 115,
   "id": "a39ee9d9",
   "metadata": {},
   "outputs": [
    {
     "name": "stdout",
     "output_type": "stream",
     "text": [
      "Recall Score  :  0.6779878244152515\n"
     ]
    }
   ],
   "source": [
    "print(\"Recall Score  : \", recall_score(y_test,y_pred))"
   ]
  },
  {
   "cell_type": "code",
   "execution_count": 116,
   "id": "8ea79887",
   "metadata": {},
   "outputs": [],
   "source": [
    "from  sklearn.metrics import confusion_matrix"
   ]
  },
  {
   "cell_type": "code",
   "execution_count": 117,
   "id": "f03ac55d",
   "metadata": {},
   "outputs": [
    {
     "data": {
      "text/plain": [
       "array([[2006, 1110],\n",
       "       [1005, 2116]], dtype=int64)"
      ]
     },
     "execution_count": 117,
     "metadata": {},
     "output_type": "execute_result"
    }
   ],
   "source": [
    "cm = confusion_matrix(y_test,y_pred)\n",
    "cm"
   ]
  },
  {
   "cell_type": "markdown",
   "id": "d3a62120",
   "metadata": {},
   "source": [
    "# Predict the Output :"
   ]
  },
  {
   "cell_type": "code",
   "execution_count": 118,
   "id": "e6a4e497",
   "metadata": {},
   "outputs": [
    {
     "name": "stdout",
     "output_type": "stream",
     "text": [
      "Prediction : Dog\n"
     ]
    }
   ],
   "source": [
    "categories = [\"Cat\",\"Dog\"]\n",
    "print(\"Prediction :\", categories[y_pred[0]])"
   ]
  },
  {
   "cell_type": "code",
   "execution_count": 119,
   "id": "f6fb30ef",
   "metadata": {},
   "outputs": [],
   "source": [
    "pet = X_test[0].reshape(50,50)"
   ]
  },
  {
   "cell_type": "code",
   "execution_count": 120,
   "id": "0efbd87b",
   "metadata": {},
   "outputs": [],
   "source": [
    "import matplotlib.pyplot as plt"
   ]
  },
  {
   "cell_type": "code",
   "execution_count": 121,
   "id": "71b01c7b",
   "metadata": {},
   "outputs": [
    {
     "data": {
      "image/png": "[encoded data removed]",
      "text/plain": [
       "<Figure size 432x288 with 1 Axes>"
      ]
     },
     "metadata": {
      "needs_background": "light"
     },
     "output_type": "display_data"
    }
   ],
   "source": [
    "plt.imshow(pet, cmap = \"gray\")\n",
    "plt.show()"
   ]
  },
  {
   "cell_type": "markdown",
   "id": "cecc95bf",
   "metadata": {},
   "source": [
    "# 2. Logistic Regression :"
   ]
  },
  {
   "cell_type": "markdown",
   "id": "bd2473b2",
   "metadata": {},
   "source": [
    "<img src=\"lr.png\">"
   ]
  },
  {
   "cell_type": "markdown",
   "id": "e1d10e3b",
   "metadata": {},
   "source": [
    "# What is the Logistic Regression?\n",
    "\n",
    "- Logistic Regression is a Machine Learning algorithm which is used for the classification problems.\n",
    "\n",
    "- It is a predictive analysis algorithm and based on the concept of probability.\n",
    "\n",
    "- The hypothesis of logistic regression tends it to limit the cost function between 0 and 1. "
   ]
  },
  {
   "cell_type": "code",
   "execution_count": 122,
   "id": "a6bf17ab",
   "metadata": {},
   "outputs": [
    {
     "name": "stdout",
     "output_type": "stream",
     "text": [
      "accuracy is 0.5379188712522046\n",
      "Precision Score  :  0.5376377952755905\n",
      "Recall Score  :  0.5469400833066325\n",
      "[[1648 1468]\n",
      " [1414 1707]]\n"
     ]
    },
    {
     "name": "stderr",
     "output_type": "stream",
     "text": [
      "C:\\ProgramData\\Anaconda3\\lib\\site-packages\\sklearn\\linear_model\\_logistic.py:763: ConvergenceWarning: lbfgs failed to converge (status=1):\n",
      "STOP: TOTAL NO. of ITERATIONS REACHED LIMIT.\n",
      "\n",
      "Increase the number of iterations (max_iter) or scale the data as shown in:\n",
      "    https://scikit-learn.org/stable/modules/preprocessing.html\n",
      "Please also refer to the documentation for alternative solver options:\n",
      "    https://scikit-learn.org/stable/modules/linear_model.html#logistic-regression\n",
      "  n_iter_i = _check_optimize_result(\n"
     ]
    }
   ],
   "source": [
    "# LogisticRegression\n",
    "from sklearn.linear_model import LogisticRegression\n",
    "logreg = LogisticRegression()\n",
    "logreg.fit(X_train, y_train)\n",
    "\n",
    "y_pred = logreg.predict(X_test)\n",
    "\n",
    "# Accuracy score\n",
    "from sklearn.metrics import accuracy_score\n",
    "print('accuracy is',accuracy_score(y_pred,y_test))\n",
    "# Precision Score\n",
    "from  sklearn.metrics import precision_score\n",
    "print(\"Precision Score  : \", precision_score(y_test,y_pred))\n",
    "# Recall Score \n",
    "from  sklearn.metrics import recall_score\n",
    "print(\"Recall Score  : \", recall_score(y_test,y_pred))\n",
    "# confusion matrix\n",
    "from  sklearn.metrics import confusion_matrix\n",
    "cm = confusion_matrix(y_test,y_pred)\n",
    "print(cm)"
   ]
  },
  {
   "cell_type": "code",
   "execution_count": 123,
   "id": "0bb1bb92",
   "metadata": {},
   "outputs": [
    {
     "name": "stdout",
     "output_type": "stream",
     "text": [
      "Prediction : Dog\n"
     ]
    }
   ],
   "source": [
    "categories = [\"Cat\",\"Dog\"]\n",
    "print(\"Prediction :\", categories[y_pred[0]])"
   ]
  },
  {
   "cell_type": "code",
   "execution_count": 124,
   "id": "97a37aaa",
   "metadata": {},
   "outputs": [
    {
     "data": {
      "image/png": "[encoded data removed]",
      "text/plain": [
       "<Figure size 432x288 with 1 Axes>"
      ]
     },
     "metadata": {
      "needs_background": "light"
     },
     "output_type": "display_data"
    }
   ],
   "source": [
    "pet = X_test[0].reshape(50,50)\n",
    "\n",
    "import matplotlib.pyplot as plt\n",
    "\n",
    "plt.imshow(pet, cmap = \"gray\")\n",
    "plt.show()"
   ]
  },
  {
   "cell_type": "markdown",
   "id": "ee718b18",
   "metadata": {},
   "source": [
    "# 3. K-Nearest Neighbours  :"
   ]
  },
  {
   "cell_type": "markdown",
   "id": "fefa5d75",
   "metadata": {},
   "source": [
    "<img src=\"knn.png\">"
   ]
  },
  {
   "cell_type": "markdown",
   "id": "8ad9cbc9",
   "metadata": {},
   "source": [
    "# What is K-Nearest Neighbours ?\n",
    "\n",
    "- K-Nearest Neighbour is one of **the simplest Machine Learning algorithms** based on Supervised Learning technique.\n",
    "\n",
    "\n",
    "- K-NN algorithm assumes the similarity between the new case/data and available cases and **put the new case into the category that is most similar to the available categories.**\n",
    "\n",
    "\n",
    "- K-NN algorithm stores all the available data and **classifies a new data point based on the similarity.** This means when new data appears then it can be easily classified into a well suite category by using K- NN algorithm.\n",
    "\n",
    "\n",
    "- K-NN algorithm can be used for Regression as well as for Classification but mostly it is used for the Classification problems.\n",
    "\n",
    "\n",
    "- K-NN is a **non-parametric algorithm**, which means it does not make any assumption on underlying data.\n",
    "\n",
    "\n",
    "- It is also called a **lazy learner algorithm** because it does not learn from the training set immediately instead it stores the dataset and at the time of classification, it performs an action on the dataset.\n",
    "\n",
    "\n",
    "- KNN algorithm at the training phase just stores the dataset and when it gets new data, then it classifies that data into a category that is much similar to the new data."
   ]
  },
  {
   "cell_type": "code",
   "execution_count": 125,
   "id": "4acd32ab",
   "metadata": {},
   "outputs": [
    {
     "name": "stdout",
     "output_type": "stream",
     "text": [
      "accuracy is 0.5444925444925445\n",
      "Precision Score  :  0.6049475262368815\n",
      "Recall Score  :  0.2585709708426786\n",
      "[[2589  527]\n",
      " [2314  807]]\n"
     ]
    }
   ],
   "source": [
    "# K-Nearest Neighbours\n",
    "from sklearn.neighbors import KNeighborsClassifier\n",
    "\n",
    "knn = KNeighborsClassifier(n_neighbors=8)\n",
    "knn.fit(X_train, y_train)\n",
    "\n",
    "y_pred = knn.predict(X_test)\n",
    "\n",
    "\n",
    "# Accuracy score\n",
    "from sklearn.metrics import accuracy_score\n",
    "print('accuracy is',accuracy_score(y_pred,y_test))\n",
    "# Precision Score\n",
    "from  sklearn.metrics import precision_score\n",
    "print(\"Precision Score  : \", precision_score(y_test,y_pred))\n",
    "# Recall Score \n",
    "from  sklearn.metrics import recall_score\n",
    "print(\"Recall Score  : \", recall_score(y_test,y_pred))\n",
    "# confusion matrix\n",
    "from  sklearn.metrics import confusion_matrix\n",
    "cm = confusion_matrix(y_test,y_pred)\n",
    "print(cm)"
   ]
  },
  {
   "cell_type": "code",
   "execution_count": 126,
   "id": "be1262f6",
   "metadata": {},
   "outputs": [
    {
     "name": "stdout",
     "output_type": "stream",
     "text": [
      "Prediction : Cat\n"
     ]
    }
   ],
   "source": [
    "categories = [\"Cat\",\"Dog\"]\n",
    "print(\"Prediction :\", categories[y_pred[0]])"
   ]
  },
  {
   "cell_type": "code",
   "execution_count": 127,
   "id": "a703c6b0",
   "metadata": {},
   "outputs": [
    {
     "data": {
      "image/png": "[encoded data removed]",
      "text/plain": [
       "<Figure size 432x288 with 1 Axes>"
      ]
     },
     "metadata": {
      "needs_background": "light"
     },
     "output_type": "display_data"
    }
   ],
   "source": [
    "pet = X_test[0].reshape(50,50)\n",
    "\n",
    "import matplotlib.pyplot as plt\n",
    "\n",
    "plt.imshow(pet, cmap = \"gray\")\n",
    "plt.show()"
   ]
  },
  {
   "cell_type": "markdown",
   "id": "2e2ef29f",
   "metadata": {},
   "source": [
    "# 4. Decision Tree :"
   ]
  },
  {
   "cell_type": "markdown",
   "id": "d4a4370a",
   "metadata": {},
   "source": [
    "<img src=\"dt.png\">"
   ]
  },
  {
   "cell_type": "code",
   "execution_count": 128,
   "id": "89b8c3b6",
   "metadata": {},
   "outputs": [
    {
     "name": "stdout",
     "output_type": "stream",
     "text": [
      "accuracy is 0.5444925444925445\n",
      "Precision Score  :  0.5451612903225806\n",
      "Recall Score  :  0.5414931111823134\n",
      "[[1706 1410]\n",
      " [1431 1690]]\n"
     ]
    }
   ],
   "source": [
    "# Decision Tree's\n",
    "from sklearn.tree import DecisionTreeClassifier\n",
    "\n",
    "dt = DecisionTreeClassifier()\n",
    "\n",
    "dt.fit(X_train, y_train)\n",
    "\n",
    "y_pred = dt.predict(X_test)\n",
    "\n",
    "# Accuracy score\n",
    "from sklearn.metrics import accuracy_score\n",
    "print('accuracy is',accuracy_score(y_pred,y_test))\n",
    "# Precision Score\n",
    "from  sklearn.metrics import precision_score\n",
    "print(\"Precision Score  : \", precision_score(y_test,y_pred))\n",
    "# Recall Score \n",
    "from  sklearn.metrics import recall_score\n",
    "print(\"Recall Score  : \", recall_score(y_test,y_pred))\n",
    "# confusion matrix\n",
    "from  sklearn.metrics import confusion_matrix\n",
    "cm = confusion_matrix(y_test,y_pred)\n",
    "print(cm)"
   ]
  },
  {
   "cell_type": "code",
   "execution_count": 129,
   "id": "86382c2a",
   "metadata": {},
   "outputs": [
    {
     "name": "stdout",
     "output_type": "stream",
     "text": [
      "Prediction : Dog\n"
     ]
    }
   ],
   "source": [
    "categories = [\"Cat\",\"Dog\"]\n",
    "print(\"Prediction :\", categories[y_pred[0]])"
   ]
  },
  {
   "cell_type": "code",
   "execution_count": 130,
   "id": "a123e7c1",
   "metadata": {},
   "outputs": [
    {
     "data": {
      "image/png": "[encoded data removed]",
      "text/plain": [
       "<Figure size 432x288 with 1 Axes>"
      ]
     },
     "metadata": {
      "needs_background": "light"
     },
     "output_type": "display_data"
    }
   ],
   "source": [
    "pet = X_test[0].reshape(50,50)\n",
    "\n",
    "import matplotlib.pyplot as plt\n",
    "\n",
    "plt.imshow(pet, cmap = \"gray\")\n",
    "plt.show()"
   ]
  },
  {
   "cell_type": "markdown",
   "id": "89770c66",
   "metadata": {},
   "source": [
    "# 5.  Gaussian Naive Bayes :"
   ]
  },
  {
   "cell_type": "code",
   "execution_count": 131,
   "id": "fda1ce40",
   "metadata": {},
   "outputs": [
    {
     "name": "stdout",
     "output_type": "stream",
     "text": [
      "accuracy is 0.5744749078082412\n",
      "Precision Score  :  0.5678187627069416\n",
      "Recall Score  :  0.6264017942966997\n",
      "[[1628 1488]\n",
      " [1166 1955]]\n"
     ]
    }
   ],
   "source": [
    "# Gaussian Naive Bayes\n",
    "from sklearn.naive_bayes import GaussianNB\n",
    "gnb = GaussianNB()\n",
    "gnb.fit(X_train, y_train)\n",
    "\n",
    "y_pred = gnb.predict(X_test)\n",
    "\n",
    "\n",
    "# Accuracy score\n",
    "from sklearn.metrics import accuracy_score\n",
    "print('accuracy is',accuracy_score(y_pred,y_test))\n",
    "# Precision Score\n",
    "from  sklearn.metrics import precision_score\n",
    "print(\"Precision Score  : \", precision_score(y_test,y_pred))\n",
    "# Recall Score \n",
    "from  sklearn.metrics import recall_score\n",
    "print(\"Recall Score  : \", recall_score(y_test,y_pred))\n",
    "# confusion matrix\n",
    "from  sklearn.metrics import confusion_matrix\n",
    "cm = confusion_matrix(y_test,y_pred)\n",
    "print(cm)"
   ]
  },
  {
   "cell_type": "code",
   "execution_count": 132,
   "id": "c1aed67e",
   "metadata": {},
   "outputs": [
    {
     "name": "stdout",
     "output_type": "stream",
     "text": [
      "Prediction : Cat\n"
     ]
    }
   ],
   "source": [
    "categories = [\"Cat\",\"Dog\"]\n",
    "print(\"Prediction :\", categories[y_pred[0]])"
   ]
  },
  {
   "cell_type": "code",
   "execution_count": 133,
   "id": "fdac672c",
   "metadata": {},
   "outputs": [
    {
     "data": {
      "image/png": "[encoded data removed]",
      "text/plain": [
       "<Figure size 432x288 with 1 Axes>"
      ]
     },
     "metadata": {
      "needs_background": "light"
     },
     "output_type": "display_data"
    }
   ],
   "source": [
    "pet = X_test[0].reshape(50,50)\n",
    "\n",
    "import matplotlib.pyplot as plt\n",
    "\n",
    "plt.imshow(pet, cmap = \"gray\")\n",
    "plt.show()"
   ]
  },
  {
   "cell_type": "markdown",
   "id": "9140ee8b",
   "metadata": {},
   "source": [
    "# 6. Multinomial Naive Bayes :"
   ]
  },
  {
   "cell_type": "code",
   "execution_count": 134,
   "id": "b123fedc",
   "metadata": {},
   "outputs": [
    {
     "name": "stdout",
     "output_type": "stream",
     "text": [
      "accuracy is 0.561648228314895\n",
      "Precision Score  :  0.5628859278518037\n",
      "Recall Score  :  0.5549503364306312\n",
      "[[1771 1345]\n",
      " [1389 1732]]\n"
     ]
    }
   ],
   "source": [
    "# Multinomial Naive Bayes\n",
    "from sklearn.naive_bayes import MultinomialNB\n",
    "mnb = MultinomialNB()\n",
    "mnb.fit(X_train, y_train)\n",
    "\n",
    "y_pred = mnb.predict(X_test)\n",
    "\n",
    "\n",
    "# Accuracy score\n",
    "from sklearn.metrics import accuracy_score\n",
    "print('accuracy is',accuracy_score(y_pred,y_test))\n",
    "# Precision Score\n",
    "from  sklearn.metrics import precision_score\n",
    "print(\"Precision Score  : \", precision_score(y_test,y_pred))\n",
    "# Recall Score \n",
    "from  sklearn.metrics import recall_score\n",
    "print(\"Recall Score  : \", recall_score(y_test,y_pred))\n",
    "# confusion matrix\n",
    "from  sklearn.metrics import confusion_matrix\n",
    "cm = confusion_matrix(y_test,y_pred)\n",
    "print(cm)"
   ]
  },
  {
   "cell_type": "code",
   "execution_count": 135,
   "id": "6b3846ae",
   "metadata": {},
   "outputs": [
    {
     "name": "stdout",
     "output_type": "stream",
     "text": [
      "Prediction : Dog\n"
     ]
    }
   ],
   "source": [
    "categories = [\"Cat\",\"Dog\"]\n",
    "print(\"Prediction :\", categories[y_pred[0]])"
   ]
  },
  {
   "cell_type": "code",
   "execution_count": 136,
   "id": "98446782",
   "metadata": {},
   "outputs": [
    {
     "data": {
      "image/png": "[encoded data removed]",
      "text/plain": [
       "<Figure size 432x288 with 1 Axes>"
      ]
     },
     "metadata": {
      "needs_background": "light"
     },
     "output_type": "display_data"
    }
   ],
   "source": [
    "pet = X_test[0].reshape(50,50)\n",
    "\n",
    "import matplotlib.pyplot as plt\n",
    "\n",
    "plt.imshow(pet, cmap = \"gray\")\n",
    "plt.show()"
   ]
  },
  {
   "cell_type": "markdown",
   "id": "152f2057",
   "metadata": {},
   "source": [
    " I would like to Thank Ascentia.ai for this Opportunity to display my skills for the ML intern Position and above most of this \n",
    " Thank you so much for considring my Resume and choose skills over Degree.\n",
    " \n",
    " \n",
    " Looking forward ..."
   ]
  },
  {
   "cell_type": "code",
   "execution_count": null,
   "id": "91f13501",
   "metadata": {},
   "outputs": [],
   "source": []
  }
 ],
 "metadata": {
  "kernelspec": {
   "display_name": "Python 3",
   "language": "python",
   "name": "python3"
  },
  "language_info": {
   "codemirror_mode": {
    "name": "ipython",
    "version": 3
   },
   "file_extension": ".py",
   "mimetype": "text/x-python",
   "name": "python",
   "nbconvert_exporter": "python",
   "pygments_lexer": "ipython3",
   "version": "3.8.8"
  }
 },
 "nbformat": 4,
 "nbformat_minor": 5
}
